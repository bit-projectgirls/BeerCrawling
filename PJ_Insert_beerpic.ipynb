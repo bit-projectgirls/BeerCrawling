{
 "cells": [
  {
   "cell_type": "markdown",
   "metadata": {},
   "source": [
    "- 폴더 내 jpg를 beerpic(null 상태)에 입력(update)\n",
    "- 추후 jpg를 전부 png로 수정 교체"
   ]
  },
  {
   "cell_type": "code",
   "execution_count": 10,
   "metadata": {
    "scrolled": true
   },
   "outputs": [
    {
     "data": {
      "text/plain": [
       "['216036.png',\n",
       " '255668.png',\n",
       " '258014.png',\n",
       " '326018.png',\n",
       " '426877.png',\n",
       " '500001.png',\n",
       " '500002.png',\n",
       " '500003.png',\n",
       " '500004.png',\n",
       " '500005.png',\n",
       " '500006.png',\n",
       " '500007.png',\n",
       " '500008.png',\n",
       " '500009.png',\n",
       " '500010.png',\n",
       " '500011.png',\n",
       " '500012.png',\n",
       " '500013.png',\n",
       " '500014.png',\n",
       " '500015.png',\n",
       " '500016.png',\n",
       " '500017.png',\n",
       " '500018.png',\n",
       " '500019.png']"
      ]
     },
     "execution_count": 10,
     "metadata": {},
     "output_type": "execute_result"
    }
   ],
   "source": [
    "# 폴더 내 이미지 파일 이름 가져오기\n",
    "import os\n",
    "\n",
    "path = \"d:/beers/new/\"\n",
    "file_list = os.listdir(path)\n",
    "img_list = [file for file in file_list if file.endswith(\".png\")]\n",
    "\n",
    "img_list"
   ]
  },
  {
   "cell_type": "code",
   "execution_count": 11,
   "metadata": {
    "scrolled": true
   },
   "outputs": [
    {
     "data": {
      "text/plain": [
       "24"
      ]
     },
     "execution_count": 11,
     "metadata": {},
     "output_type": "execute_result"
    }
   ],
   "source": [
    "len(img_list)"
   ]
  },
  {
   "cell_type": "code",
   "execution_count": 12,
   "metadata": {},
   "outputs": [],
   "source": [
    "# 오라클 연결\n",
    "import cx_Oracle\n",
    "\n",
    "connstr = 'bgirls/BGirls@192.168.1.2:1521/orcl'\n",
    "conn = cx_Oracle.connect(connstr)\n",
    "curs = conn.cursor()\n",
    "os.environ[\"NLS_LANG\"] = \".AL32UTF8\""
   ]
  },
  {
   "cell_type": "code",
   "execution_count": 13,
   "metadata": {},
   "outputs": [],
   "source": [
    "# 집어넣기\n",
    "for i in img_list:\n",
    "    fno = i.split(\".\")[0]\n",
    "    sql = \"\"\"\n",
    "        UPDATE beer\n",
    "        SET beerpic=:fname \n",
    "        WHERE beerno=:fno\n",
    "    \"\"\"\n",
    "    \n",
    "    try:\n",
    "        curs.prepare(sql)\n",
    "        curs.execute(None, fname=f'/img/{fno}.png', fno=fno)\n",
    "        conn.commit()\n",
    "        \n",
    "    except Exception as e:\n",
    "        if str(e).split(':')[0] != 'ORA-00001':            \n",
    "            print(e, '::', fno)\n",
    "            conn.rollback()\n",
    "        else:\n",
    "            conn.rollback()\n",
    "        \n",
    "curs.close()\n",
    "conn.close()\n",
    "    "
   ]
  },
  {
   "cell_type": "code",
   "execution_count": null,
   "metadata": {},
   "outputs": [],
   "source": []
  }
 ],
 "metadata": {
  "kernelspec": {
   "display_name": "Python 3",
   "language": "python",
   "name": "python3"
  },
  "language_info": {
   "codemirror_mode": {
    "name": "ipython",
    "version": 3
   },
   "file_extension": ".py",
   "mimetype": "text/x-python",
   "name": "python",
   "nbconvert_exporter": "python",
   "pygments_lexer": "ipython3",
   "version": "3.7.4"
  }
 },
 "nbformat": 4,
 "nbformat_minor": 2
}
